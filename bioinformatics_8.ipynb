{
 "cells": [
  {
   "cell_type": "code",
   "execution_count": 3,
   "id": "ce78fe24",
   "metadata": {},
   "outputs": [
    {
     "name": "stdout",
     "output_type": "stream",
     "text": [
      "871\n"
     ]
    }
   ],
   "source": [
    "p = 'ATTCTGGA'\n",
    "q = 'CGCCCGAATCCAGAACGCATTCCCATATTTCGGGACCACTGGCCTCCACGGTACGGACGTCAATCAAAT'\n",
    "dist = 0\n",
    "#index in a range the equivalent of the string length of p\n",
    "for i in range(len(p)):\n",
    "    #p[i] doesn't equal q[i]\n",
    "    if p[i] != q[i]:\n",
    "        #dist= dist + 1\n",
    "        dist += 1\n",
    "print(dist)"
   ]
  }
 ],
 "metadata": {
  "kernelspec": {
   "display_name": "Python 3",
   "language": "python",
   "name": "python3"
  },
  "language_info": {
   "codemirror_mode": {
    "name": "ipython",
    "version": 3
   },
   "file_extension": ".py",
   "mimetype": "text/x-python",
   "name": "python",
   "nbconvert_exporter": "python",
   "pygments_lexer": "ipython3",
   "version": "3.8.5"
  }
 },
 "nbformat": 4,
 "nbformat_minor": 5
}
