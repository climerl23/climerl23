{
 "cells": [
  {
   "cell_type": "code",
   "execution_count": null,
   "id": "fb4fcd1d",
   "metadata": {},
   "outputs": [],
   "source": [
    "Genome = 'ACGT'\n",
    "k = 4\n",
    "d = 3\n",
    "\n",
    "\n",
    "\n",
    "import itertools\n",
    "import time\n",
    "from collections import defaultdict\n",
    "\n",
    "def FrequentWordsWithMismatches(Genome, k, d):\n",
    "    start = time.process_time()\n",
    "    aprox_frq_words = []\n",
    "    frequencies = defaultdict(lambda: 0)\n",
    "    # all existent kmers with d mismatches of current kmer in genome\n",
    "    for index in range(len(Genome) - k + 1):\n",
    "        curr_kmer_and_neighbors = PermuteMotifDistanceTimes(Genome[index : index + k], d)\n",
    "        for kmer in curr_kmer_and_neighbors:\n",
    "            frequencies[kmer] += 1 \n",
    "\n",
    "    for kmer in frequencies:\n",
    "        if frequencies[kmer] == max(frequencies.values()):\n",
    "            aprox_frq_words.append(kmer)\n",
    "    end = time.process_time()\n",
    "    print(\"Time:\", end - start)\n",
    "    return aprox_frq_words\n",
    "\n",
    "\n",
    "def PermuteMotifOnce(motif, alphabet={\"A\", \"C\", \"G\", \"T\"}):\n",
    "    \"\"\"\n",
    "    Gets all strings within hamming distance 1 of motif and returns it as a\n",
    "    list.\n",
    "    \"\"\"\n",
    "\n",
    "    return list(set(itertools.chain.from_iterable([[\n",
    "        motif[:pos] + nucleotide + motif[pos + 1:] for\n",
    "        nucleotide in alphabet] for\n",
    "        pos in range(len(motif))])))\n",
    "\n",
    "\n",
    "def PermuteMotifDistanceTimes(motif, d):\n",
    "    workingSet = {motif}\n",
    "    for _ in range(d):\n",
    "        workingSet = set(itertools.chain.from_iterable(map(PermuteMotifOnce, workingSet)))\n",
    "    return list(workingSet)\n",
    "\n",
    "print(FrequentWordsWithMismatches(Genome, k, d))"
   ]
  }
 ],
 "metadata": {
  "kernelspec": {
   "display_name": "Python 3",
   "language": "python",
   "name": "python3"
  },
  "language_info": {
   "codemirror_mode": {
    "name": "ipython",
    "version": 3
   },
   "file_extension": ".py",
   "mimetype": "text/x-python",
   "name": "python",
   "nbconvert_exporter": "python",
   "pygments_lexer": "ipython3",
   "version": "3.8.5"
  }
 },
 "nbformat": 4,
 "nbformat_minor": 5
}
