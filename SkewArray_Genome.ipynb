{
 "cells": [
  {
   "cell_type": "code",
   "execution_count": 5,
   "id": "ce0ae691",
   "metadata": {},
   "outputs": [
    {
     "name": "stdout",
     "output_type": "stream",
     "text": [
      "[0, -1, -1, -1, 0, 1, 2, 1, 1, 1, 0, 1, 2, 1, 0, 0, 0, 0, -1, 0, -1, -2]\n"
     ]
    }
   ],
   "source": [
    "Genome = 'CATGGGCATCGGCCATACGCC'\n",
    "def SkewArray(Genome):\n",
    "    #creates list for skew\n",
    "    skew = [0]\n",
    "    #creates values for nucleotides\n",
    "    nuc = {\"A\":0, \"T\":0, \"C\":-1, \"G\":1}\n",
    "    for i in range(1,len(Genome)+1):\n",
    "            #adds a nuc onto skew\n",
    "            skew.append(nuc[Genome[i-1]] + skew[i-1])\n",
    "    return skew\n",
    "print(SkewArray(Genome))\n"
   ]
  },
  {
   "cell_type": "code",
   "execution_count": null,
   "id": "ada30ad4",
   "metadata": {},
   "outputs": [],
   "source": []
  },
  {
   "cell_type": "code",
   "execution_count": null,
   "id": "6ef69312",
   "metadata": {},
   "outputs": [],
   "source": []
  }
 ],
 "metadata": {
  "kernelspec": {
   "display_name": "Python 3",
   "language": "python",
   "name": "python3"
  },
  "language_info": {
   "codemirror_mode": {
    "name": "ipython",
    "version": 3
   },
   "file_extension": ".py",
   "mimetype": "text/x-python",
   "name": "python",
   "nbconvert_exporter": "python",
   "pygments_lexer": "ipython3",
   "version": "3.8.5"
  }
 },
 "nbformat": 4,
 "nbformat_minor": 5
}
