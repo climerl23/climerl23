{
 "cells": [
  {
   "cell_type": "code",
   "execution_count": 11,
   "id": "ce0ae691",
   "metadata": {},
   "outputs": [
    {
     "name": "stdout",
     "output_type": "stream",
     "text": [
      "[4, 13]\n"
     ]
    }
   ],
   "source": [
    "pattern = 'GAGG'\n",
    "genome = 'TTTAGAGCCTTCAGAGG'\n",
    "d = 2\n",
    "#position = place in genome ex: [0:0]\n",
    "position = [] \n",
    "#creates function patterncount\n",
    "def PatternCount(Text, Pattern, d):\n",
    "    count = 0\n",
    "    #defines index in range of how many patterns can be in the genome\n",
    "    for i in range(len(genome)-len(pattern)+1):\n",
    "        #creates conditional where if the pattern is within hamming distance approximation, \n",
    "        if HammingDistance(Pattern, Text[i:i+len(Pattern)]) <= d:\n",
    "            #then the count is increased\n",
    "            count = count+1\n",
    "    return count\n",
    "print(PatternCount(Text, Pattern, d))\n",
    "\n",
    "        \n",
    "#creates function hamming distance\n",
    "def hamming_distance(q, p):\n",
    "    #creates a 0-based system\n",
    "        dist = 0\n",
    "        #index in the range the length of p\n",
    "        for i in range(len(p)):\n",
    "            #compares p's index versus q's and if not compatible + 1\n",
    "            if p[i] != q[i]:\n",
    "                dist += 1\n",
    "        return dist\n",
    "#prints multiple answers\n",
    "print(approx_pat(pattern, genome, d))"
   ]
  },
  {
   "cell_type": "code",
   "execution_count": null,
   "id": "ada30ad4",
   "metadata": {},
   "outputs": [],
   "source": []
  },
  {
   "cell_type": "code",
   "execution_count": null,
   "id": "6ef69312",
   "metadata": {},
   "outputs": [],
   "source": []
  }
 ],
 "metadata": {
  "kernelspec": {
   "display_name": "Python 3",
   "language": "python",
   "name": "python3"
  },
  "language_info": {
   "codemirror_mode": {
    "name": "ipython",
    "version": 3
   },
   "file_extension": ".py",
   "mimetype": "text/x-python",
   "name": "python",
   "nbconvert_exporter": "python",
   "pygments_lexer": "ipython3",
   "version": "3.8.5"
  }
 },
 "nbformat": 4,
 "nbformat_minor": 5
}
