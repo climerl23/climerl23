{
 "cells": [
  {
   "cell_type": "code",
   "execution_count": 26,
   "id": "fb5be42e",
   "metadata": {},
   "outputs": [],
   "source": [
    "dna_seq = 'CATGGGCATCGGCCATACGCC'\n",
    "\n",
    "Genome = 'AAAAGGGG'\n",
    "symbol = 'A'\n",
    "\n",
    "\n",
    "def FasterSymbolArray(Genome, symbol):\n",
    "    array = {}\n",
    "    n = len(Genome)\n",
    "    ExtendedGenome = Genome + Genome[0:n//2]\n",
    "    array[0] = PatternCount(symbol, Genome[0:n//2])\n",
    "    for i in range(1, n):\n",
    "        array[i] = array[i-1]\n",
    "        if ExtendedGenome[i-1] == symbol:\n",
    "            array[i] = array[i]-1\n",
    "        if ExtendedGenome[i+(n//2)-1] == symbol:\n",
    "            array[i] = array[i]+1\n",
    "    return array\n",
    "\n",
    "def PatternCount(symbol,ExtendedGenome):\n",
    "    count = 0\n",
    "    for i in range(0,len(ExtendedGenome)-len(symbol)+1):\n",
    "        if ExtendedGenome[i:i+len(symbol)] == symbol:\n",
    "            count = count+1\n",
    "    return count"
   ]
  },
  {
   "cell_type": "code",
   "execution_count": null,
   "id": "ada30ad4",
   "metadata": {},
   "outputs": [],
   "source": []
  },
  {
   "cell_type": "code",
   "execution_count": null,
   "id": "6ef69312",
   "metadata": {},
   "outputs": [],
   "source": []
  }
 ],
 "metadata": {
  "kernelspec": {
   "display_name": "Python 3",
   "language": "python",
   "name": "python3"
  },
  "language_info": {
   "codemirror_mode": {
    "name": "ipython",
    "version": 3
   },
   "file_extension": ".py",
   "mimetype": "text/x-python",
   "name": "python",
   "nbconvert_exporter": "python",
   "pygments_lexer": "ipython3",
   "version": "3.8.5"
  }
 },
 "nbformat": 4,
 "nbformat_minor": 5
}
