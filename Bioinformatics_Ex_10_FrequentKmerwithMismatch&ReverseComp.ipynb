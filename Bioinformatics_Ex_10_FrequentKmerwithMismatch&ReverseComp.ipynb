{
 "cells": [
  {
   "cell_type": "code",
   "execution_count": 10,
   "id": "68db293f",
   "metadata": {},
   "outputs": [
    {
     "name": "stdout",
     "output_type": "stream",
     "text": [
      "Enter the textACGTTGCATGTCGCATGATGCATGAGAGCT\n",
      "Enter length of k-mer4\n",
      "Enter d1\n",
      "ACAT ATGT "
     ]
    }
   ],
   "source": [
    "def mismatches_and_rc(text,k,d):\n",
    "    frequencyarray={}\n",
    "    rev_text=rev_comp(text)\n",
    "    for i in range(0,4**k):\n",
    "        frequencyarray[i]=0\n",
    "    for i in frequencyarray:\n",
    "        count,r_count=0,0\n",
    "        count=PatternMatching(text,NumberToPattern(i,k),d)\n",
    "        r_count=PatternMatching(rev_text,NumberToPattern(i,k),d)\n",
    "        frequencyarray[i]=count+r_count\n",
    "    return frequencyarray\n",
    "            \n",
    "        \n",
    "def PatternMatching(text,pat,d):\n",
    "    count=0\n",
    "    for i in range(0,len(text)):\n",
    "        p=text[i:i+len(pat)]\n",
    "        if len(p)!= len(pat): break\n",
    "        if hammingdistance(p,pat)<=d:\n",
    "            count=count+1\n",
    "    return count\n",
    "\n",
    "def PatternToNumber(pattern):\n",
    "    if len(pattern)==0: return\n",
    "    SymbolToNumber = {'A':0,'C':1,'G':2,'T':3}\n",
    "    if len(pattern)==1: return SymbolToNumber[pattern]\n",
    "    n=len(pattern)\n",
    "    symbol=pattern[n-1]\n",
    "    prefix=pattern[:n-1]\n",
    "    return (4*PatternToNumber(prefix)+SymbolToNumber[symbol])\n",
    "\n",
    "def NumberToPattern(index,k):\n",
    "    NumberToSymbol = {0:'A',1:'C',2:'G',3:'T'}\n",
    "    if k==1: return NumberToSymbol[index]\n",
    "    prefix_index=index//4\n",
    "    r=index%4\n",
    "    symbol=NumberToSymbol[r]\n",
    "    return NumberToPattern(prefix_index,k-1)+symbol\n",
    "\n",
    "def hammingdistance(p,q):\n",
    "    count=0\n",
    "    if len(p)!= len(q):\n",
    "        print(\"The two sequences vary in lenghts\")\n",
    "        return\n",
    "    for i in range(0,len(p)):\n",
    "        if p[i]!=q[i]:\n",
    "            count=count+1\n",
    "    return count\n",
    "\n",
    "def rev_comp(pattern):\n",
    "    rpattern=''\n",
    "    a=[]\n",
    "    for i in pattern:\n",
    "        if i=='A':\n",
    "            a.append('T')\n",
    "        if i=='T':\n",
    "            a.append('A')\n",
    "        if i=='C':\n",
    "            a.append('G')\n",
    "        if i=='G':\n",
    "            a.append('C')\n",
    "    rpattern =rpattern.join(a)\n",
    "    return(rpattern[::-1])\n",
    "\n",
    "\n",
    "text=input('Enter the text')\n",
    "k=int(input('Enter length of k-mer'))\n",
    "d=int(input('Enter d'))\n",
    "approx_kmers= mismatches_and_rc(text,k,d)\n",
    "for a in approx_kmers:\n",
    "    if approx_kmers[a]== max(approx_kmers.values()):\n",
    "        print(NumberToPattern(a,k),end=' ')"
   ]
  }
 ],
 "metadata": {
  "kernelspec": {
   "display_name": "Python 3",
   "language": "python",
   "name": "python3"
  },
  "language_info": {
   "codemirror_mode": {
    "name": "ipython",
    "version": 3
   },
   "file_extension": ".py",
   "mimetype": "text/x-python",
   "name": "python",
   "nbconvert_exporter": "python",
   "pygments_lexer": "ipython3",
   "version": "3.8.5"
  }
 },
 "nbformat": 4,
 "nbformat_minor": 5
}
