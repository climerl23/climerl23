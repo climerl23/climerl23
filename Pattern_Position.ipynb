{
 "cells": [
  {
   "cell_type": "code",
   "execution_count": 11,
   "id": "ada30ad4",
   "metadata": {},
   "outputs": [
    {
     "name": "stdout",
     "output_type": "stream",
     "text": [
      "[1, 3, 9]\n"
     ]
    }
   ],
   "source": [
    "Pattern = \"ATAT\"\n",
    "Genome = 'GATATATGCATATACTT'\n",
    "\n",
    "\n",
    "#defines function PatternMatching for pattern in genome\n",
    "def PatternMatching(Pattern, Genome):\n",
    "    positions = [] # output variable & creates empty list\n",
    "    #shows the range of how many positions Pattern can be in Genome\n",
    "    for i in range(len(Genome)-len(Pattern)+1):\n",
    "        #creates loop where Pattern is compared, comparator ==, and equal to Genome\n",
    "        if Genome[i:i+len(Pattern)] == Pattern:\n",
    "            #if Pattern is equal to Genome, the positio will be added to the list\n",
    "           positions.append(i)\n",
    "    return positions\n",
    "\n",
    "print(PatternMatching(Pattern, Genome))"
   ]
  },
  {
   "cell_type": "code",
   "execution_count": null,
   "id": "6ef69312",
   "metadata": {},
   "outputs": [],
   "source": []
  }
 ],
 "metadata": {
  "kernelspec": {
   "display_name": "Python 3",
   "language": "python",
   "name": "python3"
  },
  "language_info": {
   "codemirror_mode": {
    "name": "ipython",
    "version": 3
   },
   "file_extension": ".py",
   "mimetype": "text/x-python",
   "name": "python",
   "nbconvert_exporter": "python",
   "pygments_lexer": "ipython3",
   "version": "3.8.5"
  }
 },
 "nbformat": 4,
 "nbformat_minor": 5
}
