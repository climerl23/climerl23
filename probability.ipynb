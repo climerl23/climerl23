{
 "cells": [
  {
   "cell_type": "code",
   "execution_count": 1,
   "id": "ce0ae691",
   "metadata": {},
   "outputs": [],
   "source": [
    "def Pr(Text, Profile):\n",
    "    pro = 1\n",
    "    for i in range(len(Text)):\n",
    "        pro = pro*Profile[Text[i]][i]\n",
    "\n",
    "    return pro"
   ]
  },
  {
   "cell_type": "code",
   "execution_count": null,
   "id": "ada30ad4",
   "metadata": {},
   "outputs": [],
   "source": []
  },
  {
   "cell_type": "code",
   "execution_count": null,
   "id": "6ef69312",
   "metadata": {},
   "outputs": [],
   "source": []
  }
 ],
 "metadata": {
  "kernelspec": {
   "display_name": "Python 3",
   "language": "python",
   "name": "python3"
  },
  "language_info": {
   "codemirror_mode": {
    "name": "ipython",
    "version": 3
   },
   "file_extension": ".py",
   "mimetype": "text/x-python",
   "name": "python",
   "nbconvert_exporter": "python",
   "pygments_lexer": "ipython3",
   "version": "3.8.5"
  }
 },
 "nbformat": 4,
 "nbformat_minor": 5
}
