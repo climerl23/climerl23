{
 "cells": [
  {
   "cell_type": "code",
   "execution_count": 6,
   "id": "ada30ad4",
   "metadata": {},
   "outputs": [
    {
     "name": "stdout",
     "output_type": "stream",
     "text": [
      "{'CGA': 1, 'GAT': 1, 'ATA': 3, 'TAT': 2, 'ATC': 1, 'TCC': 1, 'CCA': 1, 'CAT': 1, 'TAG': 1}\n"
     ]
    }
   ],
   "source": [
    "#genome sequence\n",
    "Text = \"CGATATATCCATAG\"\n",
    "#creates empty frequency map\n",
    "freq = {}\n",
    "#length of string\n",
    "k = 3\n",
    "#defines the frequency map for variables Text & k\n",
    "def FrequencyMap(Text,k):\n",
    "    #creates a variable the length of the genome\n",
    "    textLength = len(Text)\n",
    "    #creates loop of index in range of length of text - the last kmer\n",
    "    for i in range(textLength-k+1):\n",
    "        #defines patter\n",
    "        pattern = Text[i:i+k]\n",
    "        #defines list(pattern) in dict(freq) as 0\n",
    "        freq[pattern] = 0\n",
    "    #loop to define pattern in freq\n",
    "    for pattern in freq:\n",
    "        #creates loop of index in range of length of text - the last kmer\n",
    "        for i in range(textLength-k+1):\n",
    "            if Text[i:i+k]==pattern:\n",
    "                freq[pattern]=freq[pattern]+1\n",
    "#returns indentation and completes loops & definition of function\n",
    "return freq\n",
    "\n",
    "#prints the result of function FrequencyMap(Text, k)\n",
    "print(FrequencyMap(Text, k))\n",
    "\n",
    "\n",
    "    \n",
    "    "
   ]
  }
 ],
 "metadata": {
  "kernelspec": {
   "display_name": "Python 3",
   "language": "python",
   "name": "python3"
  },
  "language_info": {
   "codemirror_mode": {
    "name": "ipython",
    "version": 3
   },
   "file_extension": ".py",
   "mimetype": "text/x-python",
   "name": "python",
   "nbconvert_exporter": "python",
   "pygments_lexer": "ipython3",
   "version": "3.8.5"
  }
 },
 "nbformat": 4,
 "nbformat_minor": 5
}
