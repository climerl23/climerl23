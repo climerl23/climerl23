{
 "cells": [
  {
   "cell_type": "code",
   "execution_count": 10,
   "id": "ada30ad4",
   "metadata": {},
   "outputs": [
    {
     "name": "stdout",
     "output_type": "stream",
     "text": [
      "TGGCCCAAAA\n",
      "ACCGGGTTTT\n"
     ]
    }
   ],
   "source": [
    "Text = \"AAAACCCGGT\"\n",
    "def Reverse(Text):\n",
    "    \n",
    "    return Text[::-1]\n",
    "    \n",
    "print(Reverse(Text))\n",
    "\n",
    "def complement(Text):\n",
    "    Text = Reverse(Text)\n",
    "    replacement1 = Text.replace('A', 't')\n",
    "    replacement2 = replacement1.replace('T', 'a')\n",
    "    replacement3 = replacement2.replace('C', 'g')\n",
    "    replacement4 = replacement3.replace('G', 'c')\n",
    "    return replacement4.upper()\n",
    "\n",
    "print(complement(Text))\n",
    "\n"
   ]
  },
  {
   "cell_type": "code",
   "execution_count": null,
   "id": "6ef69312",
   "metadata": {},
   "outputs": [],
   "source": []
  }
 ],
 "metadata": {
  "kernelspec": {
   "display_name": "Python 3",
   "language": "python",
   "name": "python3"
  },
  "language_info": {
   "codemirror_mode": {
    "name": "ipython",
    "version": 3
   },
   "file_extension": ".py",
   "mimetype": "text/x-python",
   "name": "python",
   "nbconvert_exporter": "python",
   "pygments_lexer": "ipython3",
   "version": "3.8.5"
  }
 },
 "nbformat": 4,
 "nbformat_minor": 5
}
