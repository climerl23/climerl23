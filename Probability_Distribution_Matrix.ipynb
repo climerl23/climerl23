{
 "cells": [
  {
   "cell_type": "code",
   "execution_count": 2,
   "id": "ce0ae691",
   "metadata": {},
   "outputs": [
    {
     "name": "stdout",
     "output_type": "stream",
     "text": [
      "9.916290005356972\n"
     ]
    }
   ],
   "source": [
    "import math\n",
    "\n",
    "a=[0.2,0.2,0.9,0.1,0.1,0.1,0.3]\n",
    "c=[0.1,0.6,0.4,0.1,0.2,0.4,0.6]\n",
    "g=[1,1,0.9,0.9,0.1]\n",
    "t=[0.7,0.2,0.1,0.1,0.5,0.8,0.7,0.3,0.4]\n",
    "data_list=[a,c,g,t]\n",
    "\n",
    "H=0.0\n",
    "for j in data_list:\n",
    "    for i in j:\n",
    "        H=H+i*(math.log(i,2))\n",
    "print (-H)"
   ]
  },
  {
   "cell_type": "code",
   "execution_count": null,
   "id": "ada30ad4",
   "metadata": {},
   "outputs": [],
   "source": []
  },
  {
   "cell_type": "code",
   "execution_count": null,
   "id": "6ef69312",
   "metadata": {},
   "outputs": [],
   "source": []
  }
 ],
 "metadata": {
  "kernelspec": {
   "display_name": "Python 3",
   "language": "python",
   "name": "python3"
  },
  "language_info": {
   "codemirror_mode": {
    "name": "ipython",
    "version": 3
   },
   "file_extension": ".py",
   "mimetype": "text/x-python",
   "name": "python",
   "nbconvert_exporter": "python",
   "pygments_lexer": "ipython3",
   "version": "3.8.5"
  }
 },
 "nbformat": 4,
 "nbformat_minor": 5
}
