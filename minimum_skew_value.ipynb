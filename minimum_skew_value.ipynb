{
 "cells": [
  {
   "cell_type": "code",
   "execution_count": 1,
   "id": "ce0ae691",
   "metadata": {},
   "outputs": [
    {
     "name": "stdout",
     "output_type": "stream",
     "text": [
      "[14]\n"
     ]
    }
   ],
   "source": [
    "Genome = 'CATTCCAGTACTTCGATGATGGCGTGAAGA'\n",
    "\n",
    "def SkewArray(Genome):\n",
    "    #creates list for skew\n",
    "    skew = [0]\n",
    "    #creates values for nucleotides\n",
    "    nuc = {\"A\":0, \"T\":0, \"C\":-1, \"G\":1}\n",
    "    for i in range(1,len(Genome)+1):\n",
    "            #adds a nuc onto skew\n",
    "            skew.append(nuc[Genome[i-1]] + skew[i-1])\n",
    "    return skew\n",
    "\n",
    "    \n",
    "def MinimumSkew(Genome):\n",
    "    array = SkewArray(Genome)\n",
    "    #create new list for positions\n",
    "    positions = []\n",
    "    #starts skewi count as 0\n",
    "    count = 0\n",
    "    #creates a minimum variable\n",
    "    minarray = min(array)\n",
    "    for i in array:\n",
    "        if i == minarray:\n",
    "            #adds to list\n",
    "            positions.append(count)\n",
    "        #moves downstream\n",
    "        count +=1\n",
    "    return positions\n",
    "print(MinimumSkew(Genome))"
   ]
  },
  {
   "cell_type": "code",
   "execution_count": null,
   "id": "ada30ad4",
   "metadata": {},
   "outputs": [],
   "source": []
  },
  {
   "cell_type": "code",
   "execution_count": null,
   "id": "6ef69312",
   "metadata": {},
   "outputs": [],
   "source": []
  }
 ],
 "metadata": {
  "kernelspec": {
   "display_name": "Python 3",
   "language": "python",
   "name": "python3"
  },
  "language_info": {
   "codemirror_mode": {
    "name": "ipython",
    "version": 3
   },
   "file_extension": ".py",
   "mimetype": "text/x-python",
   "name": "python",
   "nbconvert_exporter": "python",
   "pygments_lexer": "ipython3",
   "version": "3.8.5"
  }
 },
 "nbformat": 4,
 "nbformat_minor": 5
}
