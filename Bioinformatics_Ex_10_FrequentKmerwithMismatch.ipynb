{
 "cells": [
  {
   "cell_type": "code",
   "execution_count": 11,
   "id": "60becb47",
   "metadata": {},
   "outputs": [
    {
     "name": "stdout",
     "output_type": "stream",
     "text": [
      "Time: 0.0\n",
      "['CTTT', 'CCAC', 'AAGG', 'TCTA', 'ATTG', 'ATGA', 'ACGA', 'GCCT', 'ACTT', 'TAAT', 'GCCC', 'AAGC', 'TGGT', 'GGGG', 'GGTT', 'TCCG', 'ACCC', 'CCAA', 'ACCT', 'ACTA', 'GTGC', 'CCTT', 'TGAT', 'GCCA', 'TAGC', 'AGGG', 'CCCA', 'TCTC', 'GCAA', 'CCTA', 'GCGA', 'ATTT', 'AGTC', 'ACTG', 'GCAC', 'AGAG', 'CGGA', 'GCCG', 'TACT', 'AGAT', 'ATCT', 'ACAT', 'AATG', 'ATTA', 'GCTG', 'AGGT', 'CAGT', 'TTGG', 'ATCG', 'AAAA', 'TCGC', 'AGGC', 'GTGG', 'GAGA', 'ACGT', 'CTGT', 'CCAT', 'ATCA', 'AAAT', 'GTGA', 'ATGC', 'CCGT', 'ATCC', 'ATAT', 'CCGG', 'ATGG', 'CCCT', 'TCAG', 'CAGC', 'TCGA', 'AAAC', 'GGGC', 'CACT', 'TCTT', 'ACTC', 'CAGA', 'CTGC', 'AGCT', 'GAGT', 'CGTT', 'CAGG', 'AGAA', 'GGCT', 'GTCT', 'AAAG', 'GGAT', 'CGGG', 'GACT', 'TCCC', 'TGCT', 'CTAT', 'AATC', 'CCCG', 'CCCC', 'TCGT', 'AACA', 'ATGT', 'GCGG', 'ACAC', 'GAGC', 'ACCG', 'GAGG', 'AAGA', 'GATT', 'AAGT', 'TCCT', 'AGCA', 'GCAT', 'TTTT', 'CGGC', 'GGGT', 'TGGC', 'TCAC', 'GCTA', 'ATAG', 'ACAG', 'GGGA', 'AACG', 'TTAT', 'TTGA', 'CGAT', 'TTGC', 'AGAC', 'CGGT', 'GCGC', 'CTGA', 'TGTT', 'GCTT', 'GTGT', 'TCAA', 'TCCA', 'AGTG', 'TAGG', 'TCAT', 'TTCT', 'TCTG', 'TAGT', 'ACCA', 'ACGG', 'ACAA', 'ATAA', 'TCGG', 'TAGA', 'GTTT', 'CGCT', 'AGTT', 'AACT', 'GTAT', 'AGCC', 'AGCG', 'ACGC', 'CCGA', 'GAAT', 'AGTA', 'CCTG', 'AGGA', 'CTGG', 'GCAG', 'TGGA', 'GCTC', 'TATT', 'CTCT', 'ATAC', 'TTGT', 'CCTC', 'AATT', 'TGGG', 'CCGC', 'CATT', 'ATTC', 'GCGT', 'CCAG', 'AATA', 'CAAT', 'AACC']\n"
     ]
    }
   ],
   "source": [
    "Genome = 'ACGT'\n",
    "k = 4\n",
    "d = 3\n",
    "\n",
    "import itertools\n",
    "import time\n",
    "from collections import defaultdict\n",
    "\n",
    "def FrequentWordsWithMismatches(Genome, k, d):\n",
    "    start = time.process_time()\n",
    "    aprox_frq_words = []\n",
    "    frequencies = defaultdict(lambda: 0)\n",
    "    # all existent kmers with d mismatches of current kmer in genome\n",
    "    for index in range(len(Genome) - k + 1):\n",
    "        curr_kmer_and_neighbors = PermuteMotifDistanceTimes(Genome[index : index + k], d)\n",
    "        for kmer in curr_kmer_and_neighbors:\n",
    "            frequencies[kmer] += 1 \n",
    "\n",
    "    for kmer in frequencies:\n",
    "        if frequencies[kmer] == max(frequencies.values()):\n",
    "            aprox_frq_words.append(kmer)\n",
    "    end = time.process_time()\n",
    "    print(\"Time:\", end - start)\n",
    "    return aprox_frq_words\n",
    "\n",
    "\n",
    "def PermuteMotifOnce(motif, alphabet={\"A\", \"C\", \"G\", \"T\"}):\n",
    "    \"\"\"\n",
    "    Gets all strings within hamming distance 1 of motif and returns it as a\n",
    "    list.\n",
    "    \"\"\"\n",
    "\n",
    "    return list(set(itertools.chain.from_iterable([[\n",
    "        motif[:pos] + nucleotide + motif[pos + 1:] for\n",
    "        nucleotide in alphabet] for\n",
    "        pos in range(len(motif))])))\n",
    "\n",
    "\n",
    "def PermuteMotifDistanceTimes(motif, d):\n",
    "    workingSet = {motif}\n",
    "    for _ in range(d):\n",
    "        workingSet = set(itertools.chain.from_iterable(map(PermuteMotifOnce, workingSet)))\n",
    "    return list(workingSet)\n",
    "\n",
    "print(FrequentWordsWithMismatches(Genome, k, d))"
   ]
  }
 ],
 "metadata": {
  "kernelspec": {
   "display_name": "Python 3",
   "language": "python",
   "name": "python3"
  },
  "language_info": {
   "codemirror_mode": {
    "name": "ipython",
    "version": 3
   },
   "file_extension": ".py",
   "mimetype": "text/x-python",
   "name": "python",
   "nbconvert_exporter": "python",
   "pygments_lexer": "ipython3",
   "version": "3.8.5"
  }
 },
 "nbformat": 4,
 "nbformat_minor": 5
}
