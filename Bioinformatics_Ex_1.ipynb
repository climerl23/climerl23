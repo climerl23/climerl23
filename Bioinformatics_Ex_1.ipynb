{
 "cells": [
  {
   "cell_type": "code",
   "execution_count": 21,
   "id": "0aefeba6",
   "metadata": {},
   "outputs": [
    {
     "name": "stdout",
     "output_type": "stream",
     "text": [
      "26\n"
     ]
    }
   ],
   "source": [
    "text = \"GGGCTTAGGGCTTAGGGCTTAGGGCTTAATAGGGCTTATTATTGGGCTTAGGGCTTATAGGGGGCTTAAGGGCTTATTGGGCTTAGGGGGCTTAAGGGCTTACGTGCTTGGGCTTAGTGGGCTTAACCGGGGCTTAGGGCTTATAGGGCTTACTCATAGTTCTTGGGCTTACAGGGCTTAGGTTGGGGCTTAGGGCTTAGGACGGGCTTAGGGCTTACAAACCTATTGGGCTTAGCATGGGCTTACGGGGCTTAGCAAGTCGCACACGGGCTTAGAGGGCTTAGGGGCTTAAACGAGTGAGGGCTTATTTAGGGCTTAATCGGGCTTACATTTCGGGGCTTACGGGCTTAGACAGGGGCTTAGTTTCTCAGGTTGGGCTTAGCGGGCTTACGGGCTTATGATCGGGCTTACGACACTTTATCCGGGCTTAGGGCTTAGGGCTTATAAGGGCTTAGGGCTTAGATTTTTTACAGACGCGGGGCTTAGGGCTTAACATATGGGCTTATCTGATGGGCTTACCGGGCTTAACGGGGCTTAAAGGGCTTATTAATTCCAGGGCTTAAAGGGCTTAAAGGGCTTATAGCTAGGGCTTACGCACCAAATGGGCTTACCGGGCTTATACGGGCTTACAGGGCTTAGCGGGCTTAGGGCTTATCAAGTGGGCTTATTGGGGGCTTACTAGGGCTTACGGGCTTAGGGCTTACAAGTAGAGAGACTGGGCTTATGGGGCTTAGGGCTTAATGGGCTTAGTGGGCTTAGCGCTAGAGACGGGGCTTACCGGGGGCTTAAGGGCTTAGGGCTTAAGGGCTTAGGGCTTAGGGGGCTTAGGGGCTTAGACAGGGCTTAGGGCTTATCGGGCTTAAGGGCTTAGGGCTTAGGGCTTAGGGCTTACCCCCCTCGGGCTTAGATGGGCTTAAACGGGCTTACCCAATTTTTGGGCTTA\"\n",
    "\n",
    "pattern = \"GGGCTTAGG\"\n",
    "\n",
    "def PatternCount(text, pattern):  \n",
    "    count = 0  \n",
    "    for i in range(len(text)-len(pattern)+1):  \n",
    "        if text[i:i+len(pattern)] == pattern:  \n",
    "            count=count+1  \n",
    "    return count  \n",
    "print (PatternCount(text, pattern))"
   ]
  },
  {
   "cell_type": "code",
   "execution_count": null,
   "id": "b6d39a07",
   "metadata": {},
   "outputs": [],
   "source": []
  }
 ],
 "metadata": {
  "kernelspec": {
   "display_name": "Python 3",
   "language": "python",
   "name": "python3"
  },
  "language_info": {
   "codemirror_mode": {
    "name": "ipython",
    "version": 3
   },
   "file_extension": ".py",
   "mimetype": "text/x-python",
   "name": "python",
   "nbconvert_exporter": "python",
   "pygments_lexer": "ipython3",
   "version": "3.8.5"
  }
 },
 "nbformat": 4,
 "nbformat_minor": 5
}
